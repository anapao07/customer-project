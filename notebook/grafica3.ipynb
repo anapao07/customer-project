{
 "cells": [
  {
   "cell_type": "code",
   "execution_count": 3,
   "metadata": {},
   "outputs": [
    {
     "name": "stdout",
     "output_type": "stream",
     "text": [
      "base de datos conectada\n"
     ]
    }
   ],
   "source": [
    "import sqlite3\n",
    "conn = sqlite3.connect('../sql/producto.db')\n",
    "\n",
    "c = conn.cursor()\n",
    "print ('base de datos conectada')"
   ]
  },
  {
   "cell_type": "code",
   "execution_count": 2,
   "metadata": {},
   "outputs": [
    {
     "name": "stdout",
     "output_type": "stream",
     "text": [
      "[3, 4, 3, 5, 7, 6, 4, 7, 5, 10]\n",
      "['Ana paola Arcos', 'Luis', 'Eduardo ', 'Jose']\n"
     ]
    }
   ],
   "source": [
    "conn.row_factory = lambda cursor, row: row[0]\n",
    "c = conn.cursor()\n",
    "cantidad = c.execute('select cantidad value from producto').fetchall()\n",
    "\n",
    "print(cantidad)\n",
    "c = c.execute(\"SELECT nombre FROM customer\")\n",
    "lab =c.fetchall()\n",
    "print(lab)"
   ]
  },
  {
   "cell_type": "code",
   "execution_count": null,
   "metadata": {},
   "outputs": [],
   "source": [
    "\n",
    " \n",
    "\n"
   ]
  },
  {
   "cell_type": "code",
   "execution_count": null,
   "metadata": {},
   "outputs": [],
   "source": []
  },
  {
   "cell_type": "code",
   "execution_count": 17,
   "metadata": {},
   "outputs": [
    {
     "name": "stdout",
     "output_type": "stream",
     "text": [
      "[3, 5, 6, 4]\n",
      "[5, 4, 7, 6]\n",
      "[3, 4, 4, 5]\n",
      "[3, 4, 3, 5]\n"
     ]
    }
   ],
   "source": [
    "\n",
    "can = c.execute('select id  value from customer').fetchall()\n",
    "\n",
    "for ids in can:\n",
    "    sent = \"select p.cantidad from custom_prod AS cp left join customer as c on c.id = cp.customer_id left join producto as p on cp.product_id = p.id where c.id= ?;\"\n",
    "    c.execute(sent, [ids])\n",
    "    data = c.fetchall()\n",
    "    print(data)"
   ]
  },
  {
   "cell_type": "code",
   "execution_count": 79,
   "metadata": {},
   "outputs": [
    {
     "data": {
      "text/plain": [
       "{'Ana paola Arcos': [3, 5, 6, 4],\n",
       " 'Luis': [5, 4, 7, 6],\n",
       " 'Eduardo ': [3, 4, 4, 5],\n",
       " 'Jose': [3, 4, 3, 5]}"
      ]
     },
     "execution_count": 79,
     "metadata": {},
     "output_type": "execute_result"
    }
   ],
   "source": [
    "co = c.execute(\"SELECT nombre FROM customer\")\n",
    "lab =c.fetchall()\n",
    "nombres =lab\n",
    "can = c.execute('select id  value from customer').fetchall()\n",
    "cantidad_producto = {}\n",
    "i = 0\n",
    "\n",
    "for ids in can:\n",
    "    sent = \"select p.cantidad from custom_prod AS cp left join customer as c on c.id = cp.customer_id left join producto as p on cp.product_id = p.id where c.id= ?;\"\n",
    "    c.execute(sent, [ids])\n",
    "    cantidad = c.fetchall()\n",
    "    cantidad_producto[nombres[i]]=cantidad\n",
    "    i+=1\n",
    "    \n",
    "cantidad_producto"
   ]
  },
  {
   "cell_type": "code",
   "execution_count": 78,
   "metadata": {},
   "outputs": [
    {
     "data": {
      "text/plain": [
       "'Luis'"
      ]
     },
     "execution_count": 78,
     "metadata": {},
     "output_type": "execute_result"
    }
   ],
   "source": [
    "nombres[1]"
   ]
  },
  {
   "cell_type": "code",
   "execution_count": 74,
   "metadata": {},
   "outputs": [
    {
     "data": {
      "text/plain": [
       "[4, 5, 9, 13]"
      ]
     },
     "execution_count": 74,
     "metadata": {},
     "output_type": "execute_result"
    }
   ],
   "source": [
    "can"
   ]
  },
  {
   "cell_type": "code",
   "execution_count": 6,
   "metadata": {},
   "outputs": [
    {
     "data": {
      "text/plain": [
       "(<Figure size 662.4x360 with 1 Axes>,\n",
       " <matplotlib.axes._subplots.AxesSubplot at 0x7f979c3255f8>)"
      ]
     },
     "execution_count": 6,
     "metadata": {},
     "output_type": "execute_result"
    },
    {
     "data": {
      "image/png": "[encoded data removed]",
      "text/plain": [
       "<Figure size 662.4x360 with 1 Axes>"
      ]
     },
     "metadata": {
      "needs_background": "light"
     },
     "output_type": "display_data"
    }
   ],
   "source": [
    "import numpy as np\n",
    "import matplotlib.pyplot as plt\n",
    "\n",
    "c.execute(\"select nombre from producto\")\n",
    "names = c.fetchall()\n",
    "\n",
    "category_names = ['Strongly disagree', 'Disagree',\n",
    "                  'Neither agree nor disagree', 'Agree', 'Strongly agree']\n",
    "results = {\n",
    "    'Question 1': [10, 15, 17, 32, 26],\n",
    "    'Question 2': [26, 22, 29, 10, 13],\n",
    "    'Question 3': [35, 37, 7, 2, 19],\n",
    "    'Question 4': [32, 11, 9, 15, 33],\n",
    "    'Question 5': [21, 29, 5, 5, 40],\n",
    "    'Question 6': [0,0,0,67,0]\n",
    "}\n",
    "\n",
    "\n",
    "def survey(results, category_names):\n",
    "    \"\"\"\n",
    "    Parameters\n",
    "    ----------\n",
    "    results : dict\n",
    "        A mapping from question labels to a list of answers per category.\n",
    "        It is assumed all lists contain the same number of entries and that\n",
    "        it matches the length of *category_names*.\n",
    "    category_names : list of str\n",
    "        The category labels.\n",
    "    \"\"\"\n",
    "    labels = list(results.keys())\n",
    "    data = np.array(list(results.values()))\n",
    "    data_cum = data.cumsum(axis=1)\n",
    "    category_colors = plt.get_cmap('RdYlGn')(\n",
    "        np.linspace(0.15, 0.85, data.shape[1]))\n",
    "\n",
    "    fig, ax = plt.subplots(figsize=(9.2, 5))\n",
    "    ax.invert_yaxis()\n",
    "    ax.xaxis.set_visible(False)\n",
    "    ax.set_xlim(0, np.sum(data, axis=1).max())\n",
    "\n",
    "    for i, (colname, color) in enumerate(zip(category_names, category_colors)):\n",
    "        widths = data[:, i]\n",
    "        starts = data_cum[:, i] - widths\n",
    "        ax.barh(labels, widths, left=starts, height=0.5,\n",
    "                label=colname, color=color)\n",
    "        xcenters = starts + widths / 2\n",
    "\n",
    "        r, g, b, _ = color\n",
    "        text_color = 'white' if r * g * b < 0.5 else 'darkgrey'\n",
    "        for y, (x, c) in enumerate(zip(xcenters, widths)):\n",
    "            ax.text(x, y, str(int(c)), ha='center', va='center',\n",
    "                    color=text_color)\n",
    "    ax.legend(ncol=len(category_names), bbox_to_anchor=(0, 1),\n",
    "              loc='lower left', fontsize='small')\n",
    "\n",
    "    return fig, ax\n",
    "\n",
    "\n",
    "survey(results, category_names)"
   ]
  },
  {
   "cell_type": "code",
   "execution_count": null,
   "metadata": {},
   "outputs": [],
   "source": [
    "\n",
    "\n"
   ]
  },
  {
   "cell_type": "code",
   "execution_count": 39,
   "metadata": {},
   "outputs": [],
   "source": [
    "conn = sqlite3.connect('../sql/producto.db')\n",
    "c = conn.cursor()\n",
    "resutados_cliente_producto = c.execute(\"\"\"SELECT c.nombre as cliente, p.nombre as producto, p.cantidad \n",
    "                      FROM custom_prod AS cp LEFT JOIN  customer as c on  c.id = cp.customer_id \n",
    "                      LEFT JOIN producto as p on cp.product_id = p.id\"\"\").fetchall()\n",
    "conn.close()"
   ]
  },
  {
   "cell_type": "code",
   "execution_count": 5,
   "metadata": {},
   "outputs": [],
   "source": [
    "conn = sqlite3.connect('../sql/producto.db')\n",
    "c = conn.cursor()\n",
    "productos = c.execute(\"SELECT nombre FROM producto\").fetchall()\n",
    "clientes = c.execute(\"SELECT nombre FROM customer\").fetchall()\n",
    "conn.close()\n"
   ]
  },
  {
   "cell_type": "markdown",
   "metadata": {},
   "source": [
    "**Diccionario Mookup:**\n",
    "\n",
    "```\n",
    "cliente_producto = { \n",
    "    \"Paola\": {\n",
    "        \"azucar\":10,\n",
    "        \"cafe\":20\n",
    "    },\n",
    "    \"Eduardo\": {\n",
    "        \"chocolate\":21,\n",
    "        \"papas\":20\n",
    "    }\n",
    "\n",
    "}\n",
    "```"
   ]
  },
  {
   "cell_type": "code",
   "execution_count": 13,
   "metadata": {},
   "outputs": [],
   "source": [
    "# Inicalizar el diccionario con los clientes como llaves - None significa Nulo\n",
    "cliente_producto = {}\n",
    "for cliente in clientes:\n",
    "    cliente_producto[cliente[0]] = None"
   ]
  },
  {
   "cell_type": "code",
   "execution_count": 14,
   "metadata": {},
   "outputs": [
    {
     "ename": "NameError",
     "evalue": "name 'lista_todos_productos' is not defined",
     "output_type": "error",
     "traceback": [
      "\u001b[0;31m---------------------------------------------------------------------------\u001b[0m",
      "\u001b[0;31mNameError\u001b[0m                                 Traceback (most recent call last)",
      "\u001b[0;32m<ipython-input-14-ae7c7d27f2e6>\u001b[0m in \u001b[0;36m<module>\u001b[0;34m\u001b[0m\n\u001b[1;32m      1\u001b[0m \u001b[0;31m# A todos los clientes asignar todos los productos con cantidad cero (inicialización)\u001b[0m\u001b[0;34m\u001b[0m\u001b[0;34m\u001b[0m\u001b[0;34m\u001b[0m\u001b[0m\n\u001b[1;32m      2\u001b[0m \u001b[0;32mfor\u001b[0m \u001b[0mcliente\u001b[0m \u001b[0;32min\u001b[0m \u001b[0mcliente_producto\u001b[0m\u001b[0;34m.\u001b[0m\u001b[0mkeys\u001b[0m\u001b[0;34m(\u001b[0m\u001b[0;34m)\u001b[0m\u001b[0;34m:\u001b[0m\u001b[0;34m\u001b[0m\u001b[0;34m\u001b[0m\u001b[0m\n\u001b[0;32m----> 3\u001b[0;31m     \u001b[0mcliente_producto\u001b[0m\u001b[0;34m[\u001b[0m\u001b[0mcliente\u001b[0m\u001b[0;34m]\u001b[0m \u001b[0;34m=\u001b[0m \u001b[0mdict\u001b[0m\u001b[0;34m.\u001b[0m\u001b[0mfromkeys\u001b[0m\u001b[0;34m(\u001b[0m\u001b[0mlista_todos_productos\u001b[0m\u001b[0;34m,\u001b[0m \u001b[0;36m0\u001b[0m\u001b[0;34m)\u001b[0m\u001b[0;34m\u001b[0m\u001b[0;34m\u001b[0m\u001b[0m\n\u001b[0m",
      "\u001b[0;31mNameError\u001b[0m: name 'lista_todos_productos' is not defined"
     ]
    }
   ],
   "source": [
    "# A todos los clientes asignar todos los productos con cantidad cero (inicialización)\n",
    "for cliente in cliente_producto.keys():\n",
    "    cliente_producto[cliente] = dict.fromkeys(lista_todos_productos, 0)"
   ]
  },
  {
   "cell_type": "code",
   "execution_count": 15,
   "metadata": {},
   "outputs": [
    {
     "ename": "NameError",
     "evalue": "name 'resutados_cliente_producto' is not defined",
     "output_type": "error",
     "traceback": [
      "\u001b[0;31m---------------------------------------------------------------------------\u001b[0m",
      "\u001b[0;31mNameError\u001b[0m                                 Traceback (most recent call last)",
      "\u001b[0;32m<ipython-input-15-1d197ccd89c4>\u001b[0m in \u001b[0;36m<module>\u001b[0;34m\u001b[0m\n\u001b[1;32m      5\u001b[0m     \u001b[0;34m-\u001b[0m \u001b[0mtupla\u001b[0m\u001b[0;34m[\u001b[0m\u001b[0;36m2\u001b[0m\u001b[0;34m]\u001b[0m \u001b[0mes\u001b[0m \u001b[0mla\u001b[0m \u001b[0mCantidad\u001b[0m\u001b[0;34m\u001b[0m\u001b[0;34m\u001b[0m\u001b[0m\n\u001b[1;32m      6\u001b[0m \"\"\"\n\u001b[0;32m----> 7\u001b[0;31m \u001b[0;32mfor\u001b[0m \u001b[0mvalue\u001b[0m \u001b[0;32min\u001b[0m \u001b[0mresutados_cliente_producto\u001b[0m\u001b[0;34m:\u001b[0m\u001b[0;34m\u001b[0m\u001b[0;34m\u001b[0m\u001b[0m\n\u001b[0m\u001b[1;32m      8\u001b[0m     \u001b[0mcliente_producto\u001b[0m\u001b[0;34m[\u001b[0m\u001b[0mvalue\u001b[0m\u001b[0;34m[\u001b[0m\u001b[0;36m0\u001b[0m\u001b[0;34m]\u001b[0m\u001b[0;34m]\u001b[0m\u001b[0;34m[\u001b[0m\u001b[0mvalue\u001b[0m\u001b[0;34m[\u001b[0m\u001b[0;36m1\u001b[0m\u001b[0;34m]\u001b[0m\u001b[0;34m]\u001b[0m \u001b[0;34m=\u001b[0m \u001b[0mvalue\u001b[0m\u001b[0;34m[\u001b[0m\u001b[0;36m2\u001b[0m\u001b[0;34m]\u001b[0m\u001b[0;34m\u001b[0m\u001b[0;34m\u001b[0m\u001b[0m\n\u001b[1;32m      9\u001b[0m \u001b[0;34m\u001b[0m\u001b[0m\n",
      "\u001b[0;31mNameError\u001b[0m: name 'resutados_cliente_producto' is not defined"
     ]
    }
   ],
   "source": [
    "\"\"\" \n",
    "La tupla clientes, productos, cantidad sigue los indices:\n",
    "    - tupla[0] es Nombre del cliente\n",
    "    - tupla[1] es Nombre del producto\n",
    "    - tupla[2] es la Cantidad\n",
    "\"\"\"\n",
    "for value in resutados_cliente_producto:\n",
    "    cliente_producto[value[0]][value[1]] = value[2]\n",
    "    "
   ]
  },
  {
   "cell_type": "code",
   "execution_count": 16,
   "metadata": {},
   "outputs": [
    {
     "ename": "KeyError",
     "evalue": "'Eduardo '",
     "output_type": "error",
     "traceback": [
      "\u001b[0;31m---------------------------------------------------------------------------\u001b[0m",
      "\u001b[0;31mKeyError\u001b[0m                                  Traceback (most recent call last)",
      "\u001b[0;32m<ipython-input-16-6d8eb3cb45f4>\u001b[0m in \u001b[0;36m<module>\u001b[0;34m\u001b[0m\n\u001b[0;32m----> 1\u001b[0;31m \u001b[0mcliente_producto\u001b[0m\u001b[0;34m[\u001b[0m\u001b[0;34m'Eduardo '\u001b[0m\u001b[0;34m]\u001b[0m\u001b[0;34m.\u001b[0m\u001b[0mvalues\u001b[0m\u001b[0;34m(\u001b[0m\u001b[0;34m)\u001b[0m\u001b[0;34m\u001b[0m\u001b[0;34m\u001b[0m\u001b[0m\n\u001b[0m",
      "\u001b[0;31mKeyError\u001b[0m: 'Eduardo '"
     ]
    }
   ],
   "source": [
    "cliente_producto['Eduardo '].values()"
   ]
  },
  {
   "cell_type": "code",
   "execution_count": 17,
   "metadata": {},
   "outputs": [
    {
     "ename": "AttributeError",
     "evalue": "'NoneType' object has no attribute 'values'",
     "output_type": "error",
     "traceback": [
      "\u001b[0;31m---------------------------------------------------------------------------\u001b[0m",
      "\u001b[0;31mAttributeError\u001b[0m                            Traceback (most recent call last)",
      "\u001b[0;32m<ipython-input-17-dfb18092ac9d>\u001b[0m in \u001b[0;36m<module>\u001b[0;34m\u001b[0m\n\u001b[0;32m----> 1\u001b[0;31m \u001b[0mcliente_producto\u001b[0m\u001b[0;34m[\u001b[0m\u001b[0;34m'Luis'\u001b[0m\u001b[0;34m]\u001b[0m\u001b[0;34m.\u001b[0m\u001b[0mvalues\u001b[0m\u001b[0;34m(\u001b[0m\u001b[0;34m)\u001b[0m\u001b[0;34m\u001b[0m\u001b[0;34m\u001b[0m\u001b[0m\n\u001b[0m",
      "\u001b[0;31mAttributeError\u001b[0m: 'NoneType' object has no attribute 'values'"
     ]
    }
   ],
   "source": [
    "cliente_producto['Luis'].values()"
   ]
  },
  {
   "cell_type": "code",
   "execution_count": 132,
   "metadata": {},
   "outputs": [
    {
     "data": {
      "text/plain": [
       "dict_keys(['Ana paola Arcos', 'Luis', 'Eduardo ', 'Jose'])"
      ]
     },
     "execution_count": 132,
     "metadata": {},
     "output_type": "execute_result"
    }
   ],
   "source": [
    "cliente_producto.keys()"
   ]
  },
  {
   "cell_type": "code",
   "execution_count": 140,
   "metadata": {},
   "outputs": [
    {
     "data": {
      "text/plain": [
       "4"
      ]
     },
     "execution_count": 140,
     "metadata": {},
     "output_type": "execute_result"
    }
   ],
   "source": [
    "cliente_producto['Eduardo ']"
   ]
  },
  {
   "cell_type": "code",
   "execution_count": 98,
   "metadata": {},
   "outputs": [
    {
     "data": {
      "text/plain": [
       "[0, 0, 3, 5, 0, 6, 4, 0, 0, 0]"
      ]
     },
     "execution_count": 98,
     "metadata": {},
     "output_type": "execute_result"
    }
   ],
   "source": [
    "list(cliente_producto['Ana paola Arcos'].values())"
   ]
  },
  {
   "cell_type": "code",
   "execution_count": 121,
   "metadata": {},
   "outputs": [
    {
     "data": {
      "text/plain": [
       "dict_values([0, 0, 3, 5, 0, 6, 4, 0, 0, 0])"
      ]
     },
     "execution_count": 121,
     "metadata": {},
     "output_type": "execute_result"
    }
   ],
   "source": [
    "cliente_producto['Ana paola Arcos'].values()"
   ]
  },
  {
   "cell_type": "code",
   "execution_count": 10,
   "metadata": {},
   "outputs": [
    {
     "ename": "AttributeError",
     "evalue": "'NoneType' object has no attribute 'values'",
     "output_type": "error",
     "traceback": [
      "\u001b[0;31m---------------------------------------------------------------------------\u001b[0m",
      "\u001b[0;31mAttributeError\u001b[0m                            Traceback (most recent call last)",
      "\u001b[0;32m<ipython-input-10-55691540536b>\u001b[0m in \u001b[0;36m<module>\u001b[0;34m\u001b[0m\n\u001b[1;32m      1\u001b[0m \u001b[0;32mfor\u001b[0m \u001b[0mvalue\u001b[0m \u001b[0;32min\u001b[0m \u001b[0mcliente_producto\u001b[0m\u001b[0;34m.\u001b[0m\u001b[0mvalues\u001b[0m\u001b[0;34m(\u001b[0m\u001b[0;34m)\u001b[0m\u001b[0;34m:\u001b[0m\u001b[0;34m\u001b[0m\u001b[0;34m\u001b[0m\u001b[0m\n\u001b[0;32m----> 2\u001b[0;31m     \u001b[0mprint\u001b[0m\u001b[0;34m(\u001b[0m\u001b[0mvalue\u001b[0m\u001b[0;34m.\u001b[0m\u001b[0mvalues\u001b[0m\u001b[0;34m(\u001b[0m\u001b[0;34m)\u001b[0m\u001b[0;34m)\u001b[0m\u001b[0;34m\u001b[0m\u001b[0;34m\u001b[0m\u001b[0m\n\u001b[0m\u001b[1;32m      3\u001b[0m \u001b[0;34m\u001b[0m\u001b[0m\n",
      "\u001b[0;31mAttributeError\u001b[0m: 'NoneType' object has no attribute 'values'"
     ]
    }
   ],
   "source": [
    "for value in cliente_producto.values():\n",
    "    print(value.values())\n",
    "\n"
   ]
  },
  {
   "cell_type": "code",
   "execution_count": 163,
   "metadata": {},
   "outputs": [
    {
     "data": {
      "text/plain": [
       "[{'cafe': 0,\n",
       "  'agua': 0,\n",
       "  'jugo': 3,\n",
       "  'arroz': 5,\n",
       "  'Leche': 0,\n",
       "  'pan': 6,\n",
       "  'jabón': 4,\n",
       "  'Te': 0,\n",
       "  'chocolate': 0,\n",
       "  'atun': 0},\n",
       " {'cafe': 0,\n",
       "  'agua': 4,\n",
       "  'jugo': 0,\n",
       "  'arroz': 5,\n",
       "  'Leche': 0,\n",
       "  'pan': 6,\n",
       "  'jabón': 0,\n",
       "  'Te': 7,\n",
       "  'chocolate': 0,\n",
       "  'atun': 0},\n",
       " {'cafe': 4,\n",
       "  'agua': 4,\n",
       "  'jugo': 0,\n",
       "  'arroz': 0,\n",
       "  'Leche': 0,\n",
       "  'pan': 0,\n",
       "  'jabón': 4,\n",
       "  'Te': 0,\n",
       "  'chocolate': 5,\n",
       "  'atun': 0},\n",
       " {'cafe': 4,\n",
       "  'agua': 4,\n",
       "  'jugo': 3,\n",
       "  'arroz': 5,\n",
       "  'Leche': 0,\n",
       "  'pan': 0,\n",
       "  'jabón': 0,\n",
       "  'Te': 0,\n",
       "  'chocolate': 0,\n",
       "  'atun': 0}]"
      ]
     },
     "execution_count": 163,
     "metadata": {},
     "output_type": "execute_result"
    }
   ],
   "source": [
    "list(cliente_producto.values())\n"
   ]
  },
  {
   "cell_type": "code",
   "execution_count": null,
   "metadata": {},
   "outputs": [],
   "source": [
    "\n",
    "            "
   ]
  },
  {
   "cell_type": "code",
   "execution_count": 124,
   "metadata": {},
   "outputs": [
    {
     "data": {
      "text/plain": [
       "{'Ana paola Arcos': {'cafe': 0,\n",
       "  'agua': 0,\n",
       "  'jugo': 3,\n",
       "  'arroz': 5,\n",
       "  'Leche': 0,\n",
       "  'pan': 6,\n",
       "  'jabón': 4,\n",
       "  'Te': 0,\n",
       "  'chocolate': 0,\n",
       "  'atun': 0},\n",
       " 'Luis': {'cafe': 0,\n",
       "  'agua': 4,\n",
       "  'jugo': 0,\n",
       "  'arroz': 5,\n",
       "  'Leche': 0,\n",
       "  'pan': 6,\n",
       "  'jabón': 0,\n",
       "  'Te': 7,\n",
       "  'chocolate': 0,\n",
       "  'atun': 0},\n",
       " 'Eduardo ': {'cafe': 4,\n",
       "  'agua': 4,\n",
       "  'jugo': 0,\n",
       "  'arroz': 0,\n",
       "  'Leche': 0,\n",
       "  'pan': 0,\n",
       "  'jabón': 4,\n",
       "  'Te': 0,\n",
       "  'chocolate': 5,\n",
       "  'atun': 0},\n",
       " 'Jose': {'cafe': 4,\n",
       "  'agua': 4,\n",
       "  'jugo': 3,\n",
       "  'arroz': 5,\n",
       "  'Leche': 0,\n",
       "  'pan': 0,\n",
       "  'jabón': 0,\n",
       "  'Te': 0,\n",
       "  'chocolate': 0,\n",
       "  'atun': 0}}"
      ]
     },
     "execution_count": 124,
     "metadata": {},
     "output_type": "execute_result"
    }
   ],
   "source": [
    "cliente_producto"
   ]
  },
  {
   "cell_type": "code",
   "execution_count": 181,
   "metadata": {},
   "outputs": [
    {
     "name": "stdout",
     "output_type": "stream",
     "text": [
      "Diccionario agrupado: {'cafe': [0, 0, 4, 4], 'agua': [0, 4, 4, 4], 'jugo': [3, 0, 0, 3], 'arroz': [5, 5, 0, 5], 'Leche': [0, 0, 0, 0], 'pan': [6, 6, 0, 0], 'jabón': [4, 0, 4, 0], 'Te': [0, 7, 0, 0], 'chocolate': [0, 0, 5, 0], 'atun': [0, 0, 0, 0]}\n",
      "Lista de claves: ['cafe', 'agua', 'jugo', 'arroz', 'Leche', 'pan', 'jabón', 'Te', 'chocolate', 'atun']\n",
      "Lista de valores: [[0, 0, 4, 4], [0, 4, 4, 4], [3, 0, 0, 3], [5, 5, 0, 5], [0, 0, 0, 0], [6, 6, 0, 0], [4, 0, 4, 0], [0, 7, 0, 0], [0, 0, 5, 0], [0, 0, 0, 0]]\n"
     ]
    }
   ],
   "source": [
    "from collections import defaultdict\n",
    "result = defaultdict(list)\n",
    "\n",
    "\n",
    "for d in cliente_producto.values():\n",
    "    for k,v in d.items():\n",
    "        result[k].append(v)\n",
    "k = list(result.keys())\n",
    "v = list(result.values())\n",
    "print('Diccionario agrupado:', dict(result))\n",
    "print('Lista de claves:', k)\n",
    "print('Lista de valores:', v)\n",
    "        "
   ]
  },
  {
   "cell_type": "code",
   "execution_count": 186,
   "metadata": {},
   "outputs": [
    {
     "ename": "InterfaceError",
     "evalue": "Error binding parameter 0 - probably unsupported type.",
     "output_type": "error",
     "traceback": [
      "\u001b[0;31m---------------------------------------------------------------------------\u001b[0m",
      "\u001b[0;31mInterfaceError\u001b[0m                            Traceback (most recent call last)",
      "\u001b[0;32m<ipython-input-186-8e0cc4bfbcbb>\u001b[0m in \u001b[0;36m<module>\u001b[0;34m\u001b[0m\n\u001b[1;32m     27\u001b[0m     \u001b[0mAS\u001b[0m \u001b[0mcp\u001b[0m \u001b[0mleft\u001b[0m \u001b[0mjoin\u001b[0m \u001b[0mcustomer\u001b[0m \u001b[0;32mas\u001b[0m \u001b[0mc\u001b[0m \u001b[0mon\u001b[0m \u001b[0mc\u001b[0m\u001b[0;34m.\u001b[0m\u001b[0mid\u001b[0m \u001b[0;34m=\u001b[0m \u001b[0mcp\u001b[0m\u001b[0;34m.\u001b[0m\u001b[0mcustomer_id\u001b[0m\u001b[0;34m\u001b[0m\u001b[0;34m\u001b[0m\u001b[0m\n\u001b[1;32m     28\u001b[0m     left join producto as p on cp.product_id = p.id where c.id= ?;\"\"\"\n\u001b[0;32m---> 29\u001b[0;31m     \u001b[0mc\u001b[0m\u001b[0;34m.\u001b[0m\u001b[0mexecute\u001b[0m\u001b[0;34m(\u001b[0m\u001b[0msent\u001b[0m\u001b[0;34m,\u001b[0m \u001b[0;34m[\u001b[0m\u001b[0mids\u001b[0m\u001b[0;34m]\u001b[0m\u001b[0;34m)\u001b[0m\u001b[0;34m\u001b[0m\u001b[0;34m\u001b[0m\u001b[0m\n\u001b[0m\u001b[1;32m     30\u001b[0m     \u001b[0mcantidad\u001b[0m \u001b[0;34m=\u001b[0m \u001b[0mc\u001b[0m\u001b[0;34m.\u001b[0m\u001b[0mfetchall\u001b[0m\u001b[0;34m(\u001b[0m\u001b[0;34m)\u001b[0m\u001b[0;34m\u001b[0m\u001b[0;34m\u001b[0m\u001b[0m\n\u001b[1;32m     31\u001b[0m     \u001b[0mcantidad_producto\u001b[0m\u001b[0;34m[\u001b[0m\u001b[0mnombres\u001b[0m\u001b[0;34m[\u001b[0m\u001b[0mi\u001b[0m\u001b[0;34m]\u001b[0m\u001b[0;34m]\u001b[0m\u001b[0;34m=\u001b[0m\u001b[0mcantidad\u001b[0m\u001b[0;34m\u001b[0m\u001b[0;34m\u001b[0m\u001b[0m\n",
      "\u001b[0;31mInterfaceError\u001b[0m: Error binding parameter 0 - probably unsupported type."
     ]
    }
   ],
   "source": [
    "import numpy as np\n",
    "import matplotlib.pyplot as plt\n",
    "\n",
    "c.execute(\"select nombre from customer\")\n",
    "nombres = c.fetchall()\n",
    "\n",
    "c.execute(\"select nombre from producto\")\n",
    "category_names = c.fetchall()\n",
    "\n",
    "co = c.execute(\"SELECT nombre FROM customer\")\n",
    "lab = c.fetchall()\n",
    "\n",
    "nombres = lab\n",
    "\n",
    "can = c.execute('select id value from customer').fetchall()\n",
    "co = c.execute(\"SELECT nombre FROM customer\")\n",
    "lab =c.fetchall()\n",
    "nombres =lab\n",
    "\n",
    "conn.row_factory = lambda cursor, row: row[0]\n",
    "can = c.execute('select id  from customer').fetchall()\n",
    "cantidad_producto = {}\n",
    "i = 0\n",
    "\n",
    "for ids in can:\n",
    "    sent = \"\"\"select p.cantidad from custom_prod \n",
    "    AS cp left join customer as c on c.id = cp.customer_id \n",
    "    left join producto as p on cp.product_id = p.id where c.id= ?;\"\"\"\n",
    "    c.execute(sent, [ids])\n",
    "    cantidad = c.fetchall()\n",
    "    cantidad_producto[nombres[i]]=cantidad\n",
    "    i+=1\n",
    "    \n",
    "results = cantidad_producto\n",
    "\n",
    "def survey(results, category_names):\n",
    "    labels = list(results.keys())\n",
    "    data = np.array(list(results.values()))\n",
    "    data_cum = data.cumsum(axis=1)\n",
    "    category_colors = plt.get_cmap('RdYlGn')(\n",
    "        np.linspace(0.15, 0.85, data.shape[1]))\n",
    "\n",
    "    fig, ax = plt.subplots(figsize=(9.2, 10))\n",
    "    ax.invert_yaxis()\n",
    "    ax.xaxis.set_visible(False)\n",
    "    ax.set_xlim(0, np.sum(data, axis=1).max())\n",
    "\n",
    "    for i, (colname, color) in enumerate(zip(category_names, category_colors)):\n",
    "        widths = data[:, i]\n",
    "        starts = data_cum[:, i] - widths\n",
    "        ax.barh(labels, widths, left=starts, height=0.5,\n",
    "                label=colname, color=color)\n",
    "        xcenters = starts + widths / 2\n",
    "\n",
    "        r, g, b, _ = color\n",
    "        text_color = 'white' if r * g * b < 0.5 else 'darkgrey'\n",
    "        for y, (x, c) in enumerate(zip(xcenters, widths)):\n",
    "            ax.text(x, y, str(int(c)), ha='center', va='center',\n",
    "                    color=text_color)\n",
    "    ax.legend(ncol=len(category_names), bbox_to_anchor=(0, 1),\n",
    "              loc='lower left', fontsize='small')\n",
    "     \n",
    "    plt.savefig(\"../static/image/productsbarras.png\")\n",
    "    return fig, ax \n",
    "\n",
    "survey(results, category_names)"
   ]
  },
  {
   "cell_type": "code",
   "execution_count": 233,
   "metadata": {},
   "outputs": [
    {
     "name": "stdout",
     "output_type": "stream",
     "text": [
      "{'cafe': 0, 'agua': 0, 'jugo': 3, 'arroz': 5, 'Leche': 0, 'pan': 6, 'jabón': 4, 'Te': 0, 'chocolate': 0, 'atun': 0}\n",
      "{'cafe': 0, 'agua': 4, 'jugo': 0, 'arroz': 5, 'Leche': 0, 'pan': 6, 'jabón': 0, 'Te': 7, 'chocolate': 0, 'atun': 0}\n",
      "{'cafe': 4, 'agua': 4, 'jugo': 0, 'arroz': 0, 'Leche': 0, 'pan': 0, 'jabón': 4, 'Te': 0, 'chocolate': 5, 'atun': 0}\n",
      "{'cafe': 4, 'agua': 4, 'jugo': 3, 'arroz': 5, 'Leche': 0, 'pan': 0, 'jabón': 0, 'Te': 0, 'chocolate': 0, 'atun': 0}\n"
     ]
    }
   ],
   "source": [
    "\n",
    "\n",
    "#recorremos nuestro diccionario y vamos agrupando por clave los distintos valores de cada diccionario anidado.\n",
    "for d in cliente_producto.values():\n",
    "    print(d)\n",
    "    for k,v in d.items():\n",
    "        result[k].append(v)\n",
    "\n",
    "#Podemos imprimir el diccionario, obtener sus claves         \n",
    "k = list(result.keys())\n",
    "v = list(result.values())\n",
    "\n",
    "      \n",
    "        "
   ]
  },
  {
   "cell_type": "code",
   "execution_count": null,
   "metadata": {},
   "outputs": [],
   "source": []
  }
 ],
 "metadata": {
  "kernelspec": {
   "display_name": "Python 3",
   "language": "python",
   "name": "python3"
  },
  "language_info": {
   "codemirror_mode": {
    "name": "ipython",
    "version": 3
   },
   "file_extension": ".py",
   "mimetype": "text/x-python",
   "name": "python",
   "nbconvert_exporter": "python",
   "pygments_lexer": "ipython3",
   "version": "3.6.7"
  }
 },
 "nbformat": 4,
 "nbformat_minor": 2
}
