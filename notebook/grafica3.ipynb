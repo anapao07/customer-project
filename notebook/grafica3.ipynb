{
 "cells": [
  {
   "cell_type": "code",
   "execution_count": 1,
   "metadata": {},
   "outputs": [
    {
     "name": "stdout",
     "output_type": "stream",
     "text": [
      "base de datos conectada\n"
     ]
    }
   ],
   "source": [
    "import sqlite3\n",
    "conn = sqlite3.connect('../sql/producto.db')\n",
    "\n",
    "c = conn.cursor()\n",
    "print ('base de datos conectada')"
   ]
  },
  {
   "cell_type": "code",
   "execution_count": null,
   "metadata": {},
   "outputs": [],
   "source": [
    "conn.row_factory = lambda cursor, row: row[0]\n",
    "c = conn.cursor()\n",
    "cantidad = c.execute('select cantidad value from producto').fetchall()\n",
    "\n",
    "print(cantidad)\n",
    "c = c.execute(\"SELECT nombre FROM customer\")\n",
    "lab =c.fetchall()\n",
    "print(lab)"
   ]
  },
  {
   "cell_type": "code",
   "execution_count": null,
   "metadata": {},
   "outputs": [],
   "source": [
    "\n",
    " \n",
    "\n"
   ]
  },
  {
   "cell_type": "code",
   "execution_count": null,
   "metadata": {},
   "outputs": [],
   "source": []
  },
  {
   "cell_type": "code",
   "execution_count": null,
   "metadata": {},
   "outputs": [],
   "source": [
    "\n",
    "can = c.execute('select id  value from customer').fetchall()\n",
    "\n",
    "for ids in can:\n",
    "    sent = \"select p.cantidad from custom_prod AS cp left join customer as c on c.id = cp.customer_id left join producto as p on cp.product_id = p.id where c.id= ?;\"\n",
    "    c.execute(sent, [ids])\n",
    "    data = c.fetchall()\n",
    "    print(data)"
   ]
  },
  {
   "cell_type": "code",
   "execution_count": null,
   "metadata": {},
   "outputs": [],
   "source": [
    "co = c.execute(\"SELECT nombre FROM customer\")\n",
    "lab =c.fetchall()\n",
    "nombres =lab\n",
    "can = c.execute('select id  value from customer').fetchall()\n",
    "cantidad_producto = {}\n",
    "i = 0\n",
    "\n",
    "for ids in can:\n",
    "    sent = \"select p.cantidad from custom_prod AS cp left join customer as c on c.id = cp.customer_id left join producto as p on cp.product_id = p.id where c.id= ?;\"\n",
    "    c.execute(sent, [ids])\n",
    "    cantidad = c.fetchall()\n",
    "    cantidad_producto[nombres[i]]=cantidad\n",
    "    i+=1\n",
    "    \n",
    "cantidad_producto"
   ]
  },
  {
   "cell_type": "code",
   "execution_count": null,
   "metadata": {},
   "outputs": [],
   "source": [
    "nombres[1]"
   ]
  },
  {
   "cell_type": "code",
   "execution_count": null,
   "metadata": {},
   "outputs": [],
   "source": [
    "can"
   ]
  },
  {
   "cell_type": "code",
   "execution_count": null,
   "metadata": {},
   "outputs": [],
   "source": [
    "import numpy as np\n",
    "import matplotlib.pyplot as plt\n",
    "\n",
    "c.execute(\"select nombre from producto\")\n",
    "names = c.fetchall()\n",
    "\n",
    "category_names = ['Strongly disagree', 'Disagree',\n",
    "                  'Neither agree nor disagree', 'Agree', 'Strongly agree']\n",
    "results = {\n",
    "    'Question 1': [10, 15, 17, 32, 26],\n",
    "    'Question 2': [26, 22, 29, 10, 13],\n",
    "    'Question 3': [35, 37, 7, 2, 19],\n",
    "    'Question 4': [32, 11, 9, 15, 33],\n",
    "    'Question 5': [21, 29, 5, 5, 40],\n",
    "    'Question 6': [0,0,0,67,0]\n",
    "}\n",
    "\n",
    "\n",
    "def survey(results, category_names):\n",
    "    \"\"\"\n",
    "    Parameters\n",
    "    ----------\n",
    "    results : dict\n",
    "        A mapping from question labels to a list of answers per category.\n",
    "        It is assumed all lists contain the same number of entries and that\n",
    "        it matches the length of *category_names*.\n",
    "    category_names : list of str\n",
    "        The category labels.\n",
    "    \"\"\"\n",
    "    labels = list(results.keys())\n",
    "    data = np.array(list(results.values()))\n",
    "    data_cum = data.cumsum(axis=1)\n",
    "    category_colors = plt.get_cmap('RdYlGn')(\n",
    "        np.linspace(0.15, 0.85, data.shape[1]))\n",
    "\n",
    "    fig, ax = plt.subplots(figsize=(9.2, 5))\n",
    "    ax.invert_yaxis()\n",
    "    ax.xaxis.set_visible(False)\n",
    "    ax.set_xlim(0, np.sum(data, axis=1).max())\n",
    "\n",
    "    for i, (colname, color) in enumerate(zip(category_names, category_colors)):\n",
    "        widths = data[:, i]\n",
    "        starts = data_cum[:, i] - widths\n",
    "        ax.barh(labels, widths, left=starts, height=0.5,\n",
    "                label=colname, color=color)\n",
    "        xcenters = starts + widths / 2\n",
    "\n",
    "        r, g, b, _ = color\n",
    "        text_color = 'white' if r * g * b < 0.5 else 'darkgrey'\n",
    "        for y, (x, c) in enumerate(zip(xcenters, widths)):\n",
    "            ax.text(x, y, str(int(c)), ha='center', va='center',\n",
    "                    color=text_color)\n",
    "    ax.legend(ncol=len(category_names), bbox_to_anchor=(0, 1),\n",
    "              loc='lower left', fontsize='small')\n",
    "\n",
    "    return fig, ax\n",
    "\n",
    "\n",
    "survey(results, category_names)"
   ]
  },
  {
   "cell_type": "code",
   "execution_count": null,
   "metadata": {},
   "outputs": [],
   "source": [
    "\n",
    "\n"
   ]
  },
  {
   "cell_type": "code",
   "execution_count": 2,
   "metadata": {},
   "outputs": [],
   "source": [
    "conn = sqlite3.connect('../sql/producto.db')\n",
    "c = conn.cursor()\n",
    "resutados_cliente_producto = c.execute(\"\"\"SELECT c.nombre as cliente, p.nombre as producto, p.cantidad \n",
    "                      FROM custom_prod AS cp LEFT JOIN  customer as c on  c.id = cp.customer_id \n",
    "                      LEFT JOIN producto as p on cp.product_id = p.id\"\"\").fetchall()\n",
    "conn.close()"
   ]
  },
  {
   "cell_type": "code",
   "execution_count": 3,
   "metadata": {},
   "outputs": [],
   "source": [
    "conn = sqlite3.connect('../sql/producto.db')\n",
    "c = conn.cursor()\n",
    "productos = c.execute(\"SELECT nombre FROM producto\").fetchall()\n",
    "clientes = c.execute(\"SELECT nombre FROM customer\").fetchall()\n",
    "conn.close()\n"
   ]
  },
  {
   "cell_type": "markdown",
   "metadata": {},
   "source": [
    "**Diccionario Mookup:**\n",
    "\n",
    "```\n",
    "cliente_producto = { \n",
    "    \"Paola\": {\n",
    "        \"azucar\":10,\n",
    "        \"cafe\":20\n",
    "    },\n",
    "    \"Eduardo\": {\n",
    "        \"chocolate\":21,\n",
    "        \"papas\":20\n",
    "    }\n",
    "\n",
    "}\n",
    "```"
   ]
  },
  {
   "cell_type": "code",
   "execution_count": 4,
   "metadata": {},
   "outputs": [],
   "source": [
    "# Generador que convierte las tuplas en lista \n",
    "lista_todos_productos = [value[0] for value in productos]"
   ]
  },
  {
   "cell_type": "code",
   "execution_count": 5,
   "metadata": {},
   "outputs": [],
   "source": [
    "# Inicalizar el diccionario con los clientes como llaves - None significa Nulo\n",
    "cliente_producto = {}\n",
    "results = {}\n",
    "for cliente in clientes:\n",
    "    cliente_producto[cliente[0]] = None\n",
    "    results[cliente[0]] = None "
   ]
  },
  {
   "cell_type": "code",
   "execution_count": 6,
   "metadata": {
    "scrolled": true
   },
   "outputs": [],
   "source": [
    "# A todos los clientes asignar todos los productos con cantidad cero (inicialización)\n",
    "for cliente in cliente_producto.keys():\n",
    "    cliente_producto[cliente] = dict.fromkeys(lista_todos_productos, 0)"
   ]
  },
  {
   "cell_type": "code",
   "execution_count": 8,
   "metadata": {},
   "outputs": [],
   "source": [
    "\"\"\" \n",
    "La tupla clientes, productos, cantidad sigue los indices:\n",
    "    - tupla[0] es Nombre del cliente\n",
    "    - tupla[1] es Nombre del producto\n",
    "    - tupla[2] es la Cantidad\n",
    "\"\"\"\n",
    "for value in resutados_cliente_producto:\n",
    "    cliente_producto[value[0]][value[1]] = value[2]\n",
    "    "
   ]
  },
  {
   "cell_type": "code",
   "execution_count": 17,
   "metadata": {},
   "outputs": [],
   "source": [
    "values_clientes = {}\n",
    "for value,key in zip(cliente_producto.values(), cliente_producto.keys()):\n",
    "    values_clientes[key] = list(value.values())\n",
    "    "
   ]
  },
  {
   "cell_type": "code",
   "execution_count": 18,
   "metadata": {},
   "outputs": [
    {
     "data": {
      "text/plain": [
       "{'Ana paola Arcos': [0, 0, 3, 5, 0, 6, 4, 0, 0, 0, 0],\n",
       " 'Luis': [0, 4, 0, 5, 0, 6, 0, 7, 0, 0, 0],\n",
       " 'Eduardo ': [4, 4, 0, 0, 0, 0, 4, 0, 5, 0, 0],\n",
       " 'Jose': [4, 4, 3, 5, 0, 0, 0, 0, 0, 0, 0],\n",
       " 'Ana': [0, 0, 0, 0, 0, 0, 0, 0, 0, 0, 0]}"
      ]
     },
     "execution_count": 18,
     "metadata": {},
     "output_type": "execute_result"
    }
   ],
   "source": [
    "values_clientes"
   ]
  },
  {
   "cell_type": "code",
   "execution_count": 19,
   "metadata": {},
   "outputs": [
    {
     "data": {
      "text/plain": [
       "['Ana paola Arcos', 'Luis', 'Eduardo ', 'Jose', 'Ana']"
      ]
     },
     "execution_count": 19,
     "metadata": {},
     "output_type": "execute_result"
    }
   ],
   "source": [
    "list(values_clientes.keys())"
   ]
  },
  {
   "cell_type": "code",
   "execution_count": 20,
   "metadata": {},
   "outputs": [
    {
     "data": {
      "text/plain": [
       "[[0, 0, 3, 5, 0, 6, 4, 0, 0, 0, 0],\n",
       " [0, 4, 0, 5, 0, 6, 0, 7, 0, 0, 0],\n",
       " [4, 4, 0, 0, 0, 0, 4, 0, 5, 0, 0],\n",
       " [4, 4, 3, 5, 0, 0, 0, 0, 0, 0, 0],\n",
       " [0, 0, 0, 0, 0, 0, 0, 0, 0, 0, 0]]"
      ]
     },
     "execution_count": 20,
     "metadata": {},
     "output_type": "execute_result"
    }
   ],
   "source": [
    "list(values_clientes.values())"
   ]
  },
  {
   "cell_type": "code",
   "execution_count": null,
   "metadata": {},
   "outputs": [],
   "source": []
  },
  {
   "cell_type": "code",
   "execution_count": null,
   "metadata": {},
   "outputs": [],
   "source": []
  },
  {
   "cell_type": "code",
   "execution_count": null,
   "metadata": {},
   "outputs": [],
   "source": []
  },
  {
   "cell_type": "code",
   "execution_count": null,
   "metadata": {},
   "outputs": [],
   "source": []
  },
  {
   "cell_type": "code",
   "execution_count": 9,
   "metadata": {},
   "outputs": [
    {
     "data": {
      "text/plain": [
       "dict_values([4, 4, 0, 0, 0, 0, 4, 0, 5, 0, 0])"
      ]
     },
     "execution_count": 9,
     "metadata": {},
     "output_type": "execute_result"
    }
   ],
   "source": [
    "cliente_producto['Eduardo '].values()"
   ]
  },
  {
   "cell_type": "code",
   "execution_count": null,
   "metadata": {},
   "outputs": [],
   "source": [
    "cliente_producto['Luis'].values()"
   ]
  },
  {
   "cell_type": "code",
   "execution_count": null,
   "metadata": {},
   "outputs": [],
   "source": [
    "cliente_producto.keys()"
   ]
  },
  {
   "cell_type": "code",
   "execution_count": null,
   "metadata": {},
   "outputs": [],
   "source": [
    "cliente_producto['Eduardo ']"
   ]
  },
  {
   "cell_type": "code",
   "execution_count": null,
   "metadata": {},
   "outputs": [],
   "source": [
    "list(cliente_producto['Ana paola Arcos'].values())"
   ]
  },
  {
   "cell_type": "code",
   "execution_count": null,
   "metadata": {},
   "outputs": [],
   "source": [
    "cliente_producto['Ana paola Arcos'].values()"
   ]
  },
  {
   "cell_type": "code",
   "execution_count": null,
   "metadata": {},
   "outputs": [],
   "source": [
    "cliente_producto"
   ]
  },
  {
   "cell_type": "code",
   "execution_count": null,
   "metadata": {},
   "outputs": [],
   "source": [
    "list(cliente_producto.values())\n"
   ]
  },
  {
   "cell_type": "code",
   "execution_count": null,
   "metadata": {},
   "outputs": [],
   "source": [
    "\n",
    "            "
   ]
  },
  {
   "cell_type": "code",
   "execution_count": null,
   "metadata": {},
   "outputs": [],
   "source": [
    "cliente_producto"
   ]
  },
  {
   "cell_type": "code",
   "execution_count": null,
   "metadata": {},
   "outputs": [],
   "source": [
    "from collections import defaultdict\n",
    "result = defaultdict(list)\n",
    "\n",
    "\n",
    "for d in cliente_producto.values():\n",
    "    for k,v in d.items():\n",
    "        result[k].append(v)\n",
    "k = list(result.keys())\n",
    "v = list(result.values())\n",
    "print('Diccionario agrupado:', dict(result))\n",
    "print('Lista de claves:', k)\n",
    "print('Lista de valores:', v)\n",
    "        "
   ]
  },
  {
   "cell_type": "code",
   "execution_count": null,
   "metadata": {},
   "outputs": [],
   "source": [
    "import numpy as np\n",
    "import matplotlib.pyplot as plt\n",
    "\n",
    "c.execute(\"select nombre from customer\")\n",
    "nombres = c.fetchall()\n",
    "\n",
    "c.execute(\"select nombre from producto\")\n",
    "category_names = c.fetchall()\n",
    "\n",
    "co = c.execute(\"SELECT nombre FROM customer\")\n",
    "lab = c.fetchall()\n",
    "\n",
    "nombres = lab\n",
    "\n",
    "can = c.execute('select id value from customer').fetchall()\n",
    "co = c.execute(\"SELECT nombre FROM customer\")\n",
    "lab =c.fetchall()\n",
    "nombres =lab\n",
    "\n",
    "conn.row_factory = lambda cursor, row: row[0]\n",
    "can = c.execute('select id  from customer').fetchall()\n",
    "cantidad_producto = {}\n",
    "i = 0\n",
    "\n",
    "for ids in can:\n",
    "    sent = \"\"\"select p.cantidad from custom_prod \n",
    "    AS cp left join customer as c on c.id = cp.customer_id \n",
    "    left join producto as p on cp.product_id = p.id where c.id= ?;\"\"\"\n",
    "    c.execute(sent, [ids])\n",
    "    cantidad = c.fetchall()\n",
    "    cantidad_producto[nombres[i]]=cantidad\n",
    "    i+=1\n",
    "    \n",
    "results = cantidad_producto\n",
    "\n",
    "def survey(results, category_names):\n",
    "    labels = list(results.keys())\n",
    "    data = np.array(list(results.values()))\n",
    "    data_cum = data.cumsum(axis=1)\n",
    "    category_colors = plt.get_cmap('RdYlGn')(\n",
    "        np.linspace(0.15, 0.85, data.shape[1]))\n",
    "\n",
    "    fig, ax = plt.subplots(figsize=(9.2, 10))\n",
    "    ax.invert_yaxis()\n",
    "    ax.xaxis.set_visible(False)\n",
    "    ax.set_xlim(0, np.sum(data, axis=1).max())\n",
    "\n",
    "    for i, (colname, color) in enumerate(zip(category_names, category_colors)):\n",
    "        widths = data[:, i]\n",
    "        starts = data_cum[:, i] - widths\n",
    "        ax.barh(labels, widths, left=starts, height=0.5,\n",
    "                label=colname, color=color)\n",
    "        xcenters = starts + widths / 2\n",
    "\n",
    "        r, g, b, _ = color\n",
    "        text_color = 'white' if r * g * b < 0.5 else 'darkgrey'\n",
    "        for y, (x, c) in enumerate(zip(xcenters, widths)):\n",
    "            ax.text(x, y, str(int(c)), ha='center', va='center',\n",
    "                    color=text_color)\n",
    "    ax.legend(ncol=len(category_names), bbox_to_anchor=(0, 1),\n",
    "              loc='lower left', fontsize='small')\n",
    "     \n",
    "    plt.savefig(\"../static/image/productsbarras.png\")\n",
    "    return fig, ax \n",
    "\n",
    "survey(results, category_names)"
   ]
  },
  {
   "cell_type": "code",
   "execution_count": null,
   "metadata": {},
   "outputs": [],
   "source": [
    "\n",
    "\n",
    "#recorremos nuestro diccionario y vamos agrupando por clave los distintos valores de cada diccionario anidado.\n",
    "for d in cliente_producto.values():\n",
    "    print(d)\n",
    "    for k,v in d.items():\n",
    "        result[k].append(v)\n",
    "\n",
    "#Podemos imprimir el diccionario, obtener sus claves         \n",
    "k = list(result.keys())\n",
    "v = list(result.values())\n",
    "\n",
    "      \n",
    "        "
   ]
  },
  {
   "cell_type": "code",
   "execution_count": null,
   "metadata": {},
   "outputs": [],
   "source": []
  }
 ],
 "metadata": {
  "kernelspec": {
   "display_name": "Python 3",
   "language": "python",
   "name": "python3"
  },
  "language_info": {
   "codemirror_mode": {
    "name": "ipython",
    "version": 3
   },
   "file_extension": ".py",
   "mimetype": "text/x-python",
   "name": "python",
   "nbconvert_exporter": "python",
   "pygments_lexer": "ipython3",
   "version": "3.6.7"
  }
 },
 "nbformat": 4,
 "nbformat_minor": 2
}
