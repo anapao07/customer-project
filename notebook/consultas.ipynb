{
 "cells": [
  {
   "cell_type": "code",
   "execution_count": null,
   "metadata": {},
   "outputs": [],
   "source": []
  },
  {
   "cell_type": "code",
   "execution_count": null,
   "metadata": {},
   "outputs": [],
   "source": [
    "import sqlite3\n",
    "conn = sqlite3.connect('../sql/producto.db')\n",
    "\n",
    "c = conn.cursor()\n",
    "print ('base de datos conectada')\n"
   ]
  },
  {
   "cell_type": "code",
   "execution_count": null,
   "metadata": {},
   "outputs": [],
   "source": [
    "select\n",
    "       c.nombre as cliente,\n",
    "       p.nombre as producto\n",
    "from custom_prod AS cp\n",
    "left join  customer as c on  c.id = cp.customer_id\n",
    "left join producto as p on cp.product_id = p.id"
   ]
  },
  {
   "cell_type": "code",
   "execution_count": 4,
   "metadata": {},
   "outputs": [
    {
     "data": {
      "text/plain": [
       "'select c.nombre as cliente, c.rfc, c.ciudad,c.direccion,count(p.nombre) as producto , sum(p.cantidad) as total from custom_prod as cp left join  customer as c on  c.id = cp.customer_idleft join producto as p on cp.product_id = p.id group by cliente'"
      ]
     },
     "execution_count": 4,
     "metadata": {},
     "output_type": "execute_result"
    }
   ],
   "source": [
    "        \"select c.nombre as cliente, c.rfc, c.ciudad,c.direccion,\" \\\n",
    "        +\"count(p.nombre) as producto , sum(p.cantidad) as total from \" \\\n",
    "        +\"custom_prod as cp left join  customer as c on  c.id = cp.customer_id\" \\\n",
    "        +\"left join producto as p on cp.product_id = p.id group by cliente\""
   ]
  },
  {
   "cell_type": "code",
   "execution_count": null,
   "metadata": {},
   "outputs": [],
   "source": [
    "list"
   ]
  }
 ],
 "metadata": {
  "kernelspec": {
   "display_name": "Python 3",
   "language": "python",
   "name": "python3"
  },
  "language_info": {
   "codemirror_mode": {
    "name": "ipython",
    "version": 3
   },
   "file_extension": ".py",
   "mimetype": "text/x-python",
   "name": "python",
   "nbconvert_exporter": "python",
   "pygments_lexer": "ipython3",
   "version": "3.6.7"
  }
 },
 "nbformat": 4,
 "nbformat_minor": 2
}
