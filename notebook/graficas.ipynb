{
 "cells": [
  {
   "cell_type": "code",
   "execution_count": null,
   "metadata": {},
   "outputs": [],
   "source": [
    "import matplotlib\n",
    "import matplotlib.pyplot as plt\n",
    "import numpy as np\n",
    "\n",
    "paises = (\"Alemania\", \"España\", \"Francia\", \"Portugal\")\n",
    "posicion_y = np.arange(len(paises))\n",
    "unidades = (342, 321, 192, 402)\n",
    "plt.barh(posicion_y, unidades, align = \"center\")\n",
    "plt.yticks(posicion_y, paises)\n",
    "plt.xlabel('Unidades vendidas')\n",
    "plt.title(\"Ventas en Europa\")\n"
   ]
  },
  {
   "cell_type": "code",
   "execution_count": 2,
   "metadata": {},
   "outputs": [
    {
     "name": "stdout",
     "output_type": "stream",
     "text": [
      "base de datos conectada\n"
     ]
    }
   ],
   "source": [
    "import sqlite3\n",
    "conn = sqlite3.connect('../sql/producto.db')\n",
    "\n",
    "c = conn.cursor()\n",
    "print ('base de datos conectada')"
   ]
  },
  {
   "cell_type": "code",
   "execution_count": null,
   "metadata": {},
   "outputs": [],
   "source": [
    "hey\n",
    "git reset --hard HEAD~1\n",
    "Eduardo Carrera20:51\n",
    "eduardocarhue@gmail.com\n",
    "Eduardo Carrera21:29\n",
    "git clone https://github.com/anapao07/customer-project.git\n",
    "Eduardo Carrera21:32\n",
    "1.- Clona repositorio\n",
    "2.- Validar que el repositorio este limpio\n",
    "3.- Crear un branch \"develop_ana\"\n",
    "4.- Crear un archivo python que imprima algo\n",
    "5.- Empujar (push) branch a github \n",
    "6.- Avisarme <3\n",
    "\n",
    "\n",
    "Eduardo Carrera21:34\n",
    "7.- Jalar (pull) Branch \"develop_ana\" y testear (cambiar a ese branch y ver que funcione el nuevo archivo)\n",
    "8.- Merge (unir) develop_ana con el master (branch) "
   ]
  },
  {
   "cell_type": "code",
   "execution_count": 8,
   "metadata": {},
   "outputs": [
    {
     "data": {
      "text/plain": [
       "(<Figure size 432x288 with 1 Axes>,\n",
       " <matplotlib.axes._subplots.AxesSubplot at 0x7fc94d731da0>)"
      ]
     },
     "execution_count": 8,
     "metadata": {},
     "output_type": "execute_result"
    },
    {
     "data": {
      "image/png": "[encoded data removed]",
      "text/plain": [
       "<Figure size 432x288 with 1 Axes>"
      ]
     },
     "metadata": {
      "needs_background": "light"
     },
     "output_type": "display_data"
    }
   ],
   "source": [
    "import numpy as np\n",
    "import matplotlib.pyplot as plt\n",
    "\n",
    "c.execute(\"select nombre from customer\")\n",
    "nombres = c.fetchall()\n",
    "\n",
    "c.execute(\"select nombre from producto\")\n",
    "category_names = c.fetchall()\n",
    "\n",
    "co = c.execute(\"SELECT nombre FROM customer\")\n",
    "lab = c.fetchall()\n",
    "\n",
    "nombres = lab\n",
    "\n",
    "can = c.execute('select id value from customer').fetchall()\n",
    "co = c.execute(\"SELECT nombre FROM customer\")\n",
    "lab =c.fetchall()\n",
    "nombres =lab\n",
    "\n",
    "\n",
    "conn.row_factory = lambda cursor, row: row[0]\n",
    "can = c.execute('select id  from customer').fetchall()\n",
    "cantidad_producto = {}\n",
    "i = 0\n",
    "\n",
    "for ids in can:\n",
    "    sent = \"\"\"select p.cantidad from custom_prod \n",
    "    AS cp left join customer as c on c.id = cp.customer_id \n",
    "    left join producto as p on cp.product_id = p.id where c.id= ?;\"\"\"\n",
    "    c.execute(sent, [ids])\n",
    "    cantidad = c.fetchall()\n",
    "    cantidad_producto[nombres[i]]=cantidad\n",
    "    i+=1\n",
    "    \n",
    "results = cantidad_producto\n",
    "\n",
    "def survey(results, category_names):\n",
    "    labels = list(results.keys())\n",
    "    data = np.array(list(results.values()))\n",
    "    data_cum = data.cumsum(axis=1)\n",
    "    category_colors = plt.get_cmap('RdYlGn')(\n",
    "        np.linspace(0.15, 0.85, data.shape[1]))\n",
    "\n",
    "    fig, ax = plt.subplots()\n",
    "    ax.invert_yaxis()\n",
    "    ax.xaxis.set_visible(False)\n",
    "    ax.set_xlim(0, np.sum(data, axis=1).max())\n",
    "\n",
    "    for i, (colname, color) in enumerate(zip(category_names, category_colors)):\n",
    "        widths = data[:, i]\n",
    "        starts = data_cum[:, i] - widths\n",
    "        ax.barh(labels, widths, left=starts, height=0.5,\n",
    "                label=colname, color=color)\n",
    "        xcenters = starts + widths / 2\n",
    "\n",
    "        r, g, b, _ = color\n",
    "        text_color = 'white' if r * g * b < 0.5 else 'darkgrey'\n",
    "        for y, (x, c) in enumerate(zip(xcenters, widths)):\n",
    "            ax.text(x, y, str(int(c)), ha='center', va='center',\n",
    "                    color=text_color)\n",
    "    ax.legend(ncol=len(category_names), bbox_to_anchor=(0, 1),\n",
    "              loc='lower left', fontsize='small')\n",
    "     \n",
    "    plt.savefig(\"../static/image/productsbarras.png\")\n",
    "    return fig, ax \n",
    "\n",
    "survey(results, category_names)"
   ]
  },
  {
   "cell_type": "code",
   "execution_count": 20,
   "metadata": {},
   "outputs": [
    {
     "data": {
      "text/plain": [
       "{'Ana paola Arcos': [3, 5, 6, 4],\n",
       " 'Luis': [5, 4, 7, 6],\n",
       " 'Eduardo ': [4, 4, 4, 5],\n",
       " 'Jose': [4, 4, 3, 5]}"
      ]
     },
     "execution_count": 20,
     "metadata": {},
     "output_type": "execute_result"
    }
   ],
   "source": [
    "results"
   ]
  },
  {
   "cell_type": "code",
   "execution_count": null,
   "metadata": {},
   "outputs": [],
   "source": []
  },
  {
   "cell_type": "code",
   "execution_count": 18,
   "metadata": {},
   "outputs": [
    {
     "data": {
      "text/plain": [
       "[4, 5, 9, 13]"
      ]
     },
     "execution_count": 18,
     "metadata": {},
     "output_type": "execute_result"
    }
   ],
   "source": [
    "can"
   ]
  },
  {
   "cell_type": "code",
   "execution_count": 4,
   "metadata": {},
   "outputs": [
    {
     "name": "stdout",
     "output_type": "stream",
     "text": [
      "[4, 4, 3, 5, 7, 6, 4, 7, 5, 6]\n",
      "['cafe', 'agua', 'jugo', 'arroz', 'Leche', 'pan', 'jabón', 'Te', 'chocolate', 'atun']\n"
     ]
    },
    {
     "data": {
      "image/png": "[encoded data removed]",
      "text/plain": [
       "<Figure size 432x288 with 1 Axes>"
      ]
     },
     "metadata": {},
     "output_type": "display_data"
    }
   ],
   "source": [
    "import matplotlib.pyplot as plt\n",
    "\n",
    "conn.row_factory = lambda cursor, row: row[0]\n",
    "c = conn.cursor()\n",
    "cantidad = c.execute('select cantidad value from producto').fetchall()\n",
    "\n",
    "print(cantidad)\n",
    "c = c.execute(\"SELECT nombre FROM producto\")\n",
    "lab =c.fetchall()\n",
    "print(lab)\n",
    "        \n",
    "sizes = cantidad\n",
    "fig1, ax1 = plt.subplots()\n",
    "ax1.pie(sizes,labels=lab,autopct='%1.0f%%',\n",
    "        shadow=True, startangle=100)\n",
    "ax1.axis('equal')  \n",
    "plt.show()\n",
    "\n"
   ]
  },
  {
   "cell_type": "code",
   "execution_count": 5,
   "metadata": {},
   "outputs": [
    {
     "data": {
      "image/png": "[encoded data removed]",
      "text/plain": [
       "<Figure size 432x288 with 1 Axes>"
      ]
     },
     "metadata": {
      "needs_background": "light"
     },
     "output_type": "display_data"
    }
   ],
   "source": [
    "import matplotlib\n",
    "import matplotlib.pyplot as plt\n",
    "import numpy as np\n",
    "\n",
    "conn.row_factory = lambda cursor, row: row[0]\n",
    "c = conn.cursor()\n",
    "cantidad = c.execute('select cantidad value from producto').fetchall()\n",
    "c = c.execute(\"SELECT nombre FROM producto\")\n",
    "lab =c.fetchall()\n",
    "labels = lab\n",
    "products = cantidad\n",
    "x = np.arange(len(labels))  # the label locations\n",
    "width = 0.35  # the width of the bars\n",
    "fig, ax = plt.subplots()\n",
    "rects1 = ax.bar(x - width/2, products, width, label='Productos')\n",
    "# Add some text for labels, title and custom x-axis tick labels, etc.\n",
    "ax.set_ylabel('Cantidades')\n",
    "ax.set_title('Productos')\n",
    "ax.set_xticks(x)\n",
    "ax.set_xticklabels(labels)\n",
    "ax.legend()\n",
    "for rect in rects1:\n",
    "    height = rect.get_height()\n",
    "    ax.annotate('{}'.format(height),\n",
    "    xy=(rect.get_x() + rect.get_width() / 2, height),\n",
    "    xytext=(0, 3),  # 3 points vertical offset\n",
    "    textcoords=\"offset points\",\n",
    "    ha='center', va='bottom')\n",
    "    fig.tight_layout()\n",
    "    plt.savefig(\"../static/image/productsb.png\")\n",
    "\n"
   ]
  },
  {
   "cell_type": "code",
   "execution_count": null,
   "metadata": {},
   "outputs": [],
   "source": [
    "         "
   ]
  },
  {
   "cell_type": "code",
   "execution_count": null,
   "metadata": {},
   "outputs": [],
   "source": [
    "  sentencia = \"DELETE FROM producto WHERE id = ?;\"\n",
    "        c.execute(sentencia, [id])"
   ]
  },
  {
   "cell_type": "code",
   "execution_count": null,
   "metadata": {},
   "outputs": [],
   "source": [
    "\n",
    "\n"
   ]
  },
  {
   "cell_type": "code",
   "execution_count": null,
   "metadata": {},
   "outputs": [],
   "source": []
  }
 ],
 "metadata": {
  "kernelspec": {
   "display_name": "Python 3",
   "language": "python",
   "name": "python3"
  },
  "language_info": {
   "codemirror_mode": {
    "name": "ipython",
    "version": 3
   },
   "file_extension": ".py",
   "mimetype": "text/x-python",
   "name": "python",
   "nbconvert_exporter": "python",
   "pygments_lexer": "ipython3",
   "version": "3.6.7"
  }
 },
 "nbformat": 4,
 "nbformat_minor": 2
}
