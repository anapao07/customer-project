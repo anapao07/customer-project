{
 "cells": [
  {
   "cell_type": "code",
   "execution_count": null,
   "metadata": {},
   "outputs": [],
   "source": []
  },
  {
   "cell_type": "code",
   "execution_count": 1,
   "metadata": {},
   "outputs": [
    {
     "name": "stdout",
     "output_type": "stream",
     "text": [
      "base de datos conectada\n"
     ]
    }
   ],
   "source": [
    "import sqlite3\n",
    "conn = sqlite3.connect('../sql/producto.db')\n",
    "\n",
    "c = conn.cursor()\n",
    "print ('base de datos conectada')"
   ]
  },
  {
   "cell_type": "code",
   "execution_count": 3,
   "metadata": {},
   "outputs": [
    {
     "data": {
      "text/plain": [
       "(<Figure size 1080x576 with 1 Axes>,\n",
       " <matplotlib.axes._subplots.AxesSubplot at 0x7f9924577ef0>)"
      ]
     },
     "execution_count": 3,
     "metadata": {},
     "output_type": "execute_result"
    },
    {
     "data": {
      "image/png": "[encoded data removed]",
      "text/plain": [
       "<Figure size 1080x576 with 1 Axes>"
      ]
     },
     "metadata": {
      "needs_background": "light"
     },
     "output_type": "display_data"
    }
   ],
   "source": [
    "import numpy as np\n",
    "import matplotlib.pyplot as plt\n",
    "\n",
    "conn = sqlite3.connect('../sql/producto.db')\n",
    "c = conn.cursor()\n",
    "\n",
    "resutados_cliente_producto = c.execute(\"\"\"SELECT c.nombre as cliente, p.nombre as producto, p.cantidad \n",
    "                      FROM custom_prod AS cp LEFT JOIN  customer as c on  c.id = cp.customer_id \n",
    "                      LEFT JOIN producto as p on cp.product_id = p.id\"\"\").fetchall()\n",
    "\n",
    "productos = c.execute(\"SELECT nombre FROM producto\").fetchall()\n",
    "clientes = c.execute(\"SELECT nombre FROM customer\").fetchall()\n",
    "# Generador que convierte las tuplas en lista \n",
    "lista_todos_productos = [value[0] for value in productos]\n",
    "# Inicalizar el diccionario con los clientes como llaves - None significa Nulo\n",
    "cliente_producto = {}\n",
    "results = {}\n",
    "for cliente in clientes:\n",
    "    cliente_producto[cliente[0]] = None\n",
    "    results[cliente[0]] = None \n",
    "    # A todos los clientes asignar todos los productos con cantidad cero (inicialización)\n",
    "for cliente in cliente_producto.keys():\n",
    "    cliente_producto[cliente] = dict.fromkeys(lista_todos_productos, 0)\n",
    "    \"\"\" \n",
    "La tupla clientes, productos, cantidad sigue los indices:\n",
    "    - tupla[0] es Nombre del cliente\n",
    "    - tupla[1] es Nombre del producto\n",
    "    - tupla[2] es la Cantidad\n",
    "\"\"\"\n",
    "for value in resutados_cliente_producto:\n",
    "    cliente_producto[value[0]][value[1]] = value[2]\n",
    "    \n",
    "    values_clientes = {}\n",
    "    \n",
    "for value,key in zip(cliente_producto.values(), cliente_producto.keys()):\n",
    "    values_clientes[key] = list(value.values())\n",
    "    \n",
    "    \n",
    "    \n",
    "\n",
    "category_names = productos\n",
    "results = values_clientes\n",
    "\n",
    "\n",
    "def survey(results, category_names):\n",
    "    \"\"\"\n",
    "    Parameters\n",
    "    ----------\n",
    "    results : dict\n",
    "        A mapping from question labels to a list of answers per category.\n",
    "        It is assumed all lists contain the same number of entries and that\n",
    "        it matches the length of *category_names*.\n",
    "    category_names : list of str\n",
    "        The category labels.\n",
    "    \"\"\"\n",
    "    labels = list(results.keys())\n",
    "    data = np.array(list(results.values()))\n",
    "    data_cum = data.cumsum(axis=1)\n",
    "    category_colors = plt.get_cmap('RdYlGn')(\n",
    "    np.linspace(0.15, 0.85, data.shape[1]))\n",
    "\n",
    "    fig, ax = plt.subplots(figsize=(15, 8))\n",
    "    ax.invert_yaxis()\n",
    "    ax.xaxis.set_visible(False)\n",
    "    ax.set_xlim(0, np.sum(data, axis=1).max())\n",
    "\n",
    "    for i, (colname, color) in enumerate(zip(category_names, category_colors)):\n",
    "        widths = data[:, i]\n",
    "        starts = data_cum[:, i] - widths\n",
    "        ax.barh(labels, widths, left=starts, height=0.6,\n",
    "                label=colname, color=color)\n",
    "        xcenters = starts + widths / 2\n",
    "\n",
    "        r, g, b, _ = color\n",
    "        text_color = 'white' if r * g * b < 0.5 else 'darkgrey'\n",
    "        for y, (x, c) in enumerate(zip(xcenters, widths)):\n",
    "            ax.text(x, y, str(int(c)), ha='center', va='center',\n",
    "                    color=text_color)\n",
    "    ax.legend(ncol=len(category_names), bbox_to_anchor=(0, 1),\n",
    "              loc='lower left', fontsize='small')\n",
    "    plt.savefig(\"../static/image/productslista.png\")\n",
    "\n",
    "    return fig, ax\n",
    "\n",
    "\n",
    "survey(results, category_names)"
   ]
  },
  {
   "cell_type": "code",
   "execution_count": null,
   "metadata": {},
   "outputs": [],
   "source": []
  },
  {
   "cell_type": "code",
   "execution_count": null,
   "metadata": {},
   "outputs": [],
   "source": []
  },
  {
   "cell_type": "code",
   "execution_count": null,
   "metadata": {},
   "outputs": [],
   "source": []
  },
  {
   "cell_type": "code",
   "execution_count": null,
   "metadata": {},
   "outputs": [],
   "source": []
  },
  {
   "cell_type": "code",
   "execution_count": null,
   "metadata": {},
   "outputs": [],
   "source": [
    "import matplotlib.pyplot as plt\n",
    "from datetime import datetime\n",
    "\n",
    "import glob\n",
    "import os\n",
    "\n",
    "dateTimeObj = datetime.now()\n",
    "conn.row_factory = lambda cursor, row: row[0]\n",
    "c = conn.cursor()\n",
    "cantidad = c.execute('select cantidad value from producto').fetchall()\n",
    "\n",
    "\n",
    "c = c.execute(\"SELECT nombre FROM producto\")\n",
    "lab =c.fetchall()\n",
    "\n",
    "        \n",
    "sizes = cantidad\n",
    "fig1, ax1 = plt.subplots()\n",
    "ax1.pie(sizes,labels=lab,autopct='%1.0f%%',\n",
    "        shadow=True, startangle=100)\n",
    "ax1.axis('equal')  \n",
    "\n",
    "\n",
    "timeStr = dateTimeObj.strftime(\"%H:%M:%S\")\n",
    "print('Current Timestamp : '+ timeStr)\n",
    "\n",
    "\n",
    "filelist=glob.glob(\"../static/image/*.png\")\n",
    "for file in filelist:\n",
    "    os.remove(file)\n",
    "    \n",
    "nombre = \"products\" + timeStr +\".png\"\n",
    "plt.savefig(\"../static/image/\"+ nombre)\n",
    "print(nombre)\n",
    "plt.show()\n",
    "\n"
   ]
  },
  {
   "cell_type": "code",
   "execution_count": null,
   "metadata": {},
   "outputs": [],
   "source": [
    "path"
   ]
  },
  {
   "cell_type": "code",
   "execution_count": 6,
   "metadata": {},
   "outputs": [
    {
     "data": {
      "image/png": "[encoded data removed]",
      "text/plain": [
       "<Figure size 432x288 with 1 Axes>"
      ]
     },
     "metadata": {
      "needs_background": "light"
     },
     "output_type": "display_data"
    }
   ],
   "source": [
    "import matplotlib\n",
    "import matplotlib.pyplot as plt\n",
    "import numpy as np\n",
    "\n",
    "conn.row_factory = lambda cursor, row: row[0]\n",
    "c = conn.cursor()\n",
    "cantidad = c.execute('select cantidad value from producto').fetchall()\n",
    "c = c.execute(\"SELECT nombre FROM producto\")\n",
    "lab =c.fetchall()\n",
    "labels = lab\n",
    "products = cantidad\n",
    "x = np.arange(len(labels))  # the label locations\n",
    "width = 0.35  # the width of the bars\n",
    "fig, ax = plt.subplots()\n",
    "rects1 = ax.bar(x - width/2, products, width, label='Productos')\n",
    "# Add some text for labels, title and custom x-axis tick labels, etc.\n",
    "ax.set_ylabel('Cantidad')\n",
    "ax.set_title('Productos')\n",
    "ax.set_xticks(x)\n",
    "ax.set_xticklabels(labels)\n",
    "ax.legend()\n",
    "for rect in rects1:\n",
    "    height = rect.get_height()\n",
    "    ax.annotate('{}'.format(height),\n",
    "    xy=(rect.get_x() + rect.get_width() / 2, height),\n",
    "    xytext=(0, 3),  # 3 points vertical offset\n",
    "    textcoords=\"offset points\",\n",
    "    ha='center', va='bottom')\n",
    "    fig.tight_layout()\n",
    "    plt.savefig(\"../static/image/productsb.png\")\n",
    "\n"
   ]
  },
  {
   "cell_type": "code",
   "execution_count": null,
   "metadata": {},
   "outputs": [],
   "source": [
    "         "
   ]
  },
  {
   "cell_type": "code",
   "execution_count": null,
   "metadata": {},
   "outputs": [],
   "source": [
    "  sentencia = \"DELETE FROM producto WHERE id = ?;\"\n",
    "        c.execute(sentencia, [id])"
   ]
  },
  {
   "cell_type": "code",
   "execution_count": null,
   "metadata": {},
   "outputs": [],
   "source": [
    "\n",
    "import os \n",
    "  \n",
    "\n",
    "file = 'products10:40:34.png'\n",
    "  \n",
    "\n",
    "location = \"../static/image/\"\n",
    "  \n",
    "\n",
    "path = os.path.join(location, file) \n",
    "  \n",
    "os.remove(path) \n",
    "print(\"%s has been removed successfully\" %file) \n",
    "\n",
    "\n",
    "\n"
   ]
  },
  {
   "cell_type": "code",
   "execution_count": null,
   "metadata": {},
   "outputs": [],
   "source": []
  }
 ],
 "metadata": {
  "kernelspec": {
   "display_name": "Python 3",
   "language": "python",
   "name": "python3"
  },
  "language_info": {
   "codemirror_mode": {
    "name": "ipython",
    "version": 3
   },
   "file_extension": ".py",
   "mimetype": "text/x-python",
   "name": "python",
   "nbconvert_exporter": "python",
   "pygments_lexer": "ipython3",
   "version": "3.6.7"
  }
 },
 "nbformat": 4,
 "nbformat_minor": 2
}
